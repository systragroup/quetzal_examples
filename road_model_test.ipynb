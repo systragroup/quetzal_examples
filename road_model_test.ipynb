{
 "cells": [
  {
   "cell_type": "code",
   "execution_count": 155,
   "metadata": {},
   "outputs": [],
   "source": [
    "import sys\n",
    "sys.path.insert(0, r'../../../quetzal')\n",
    "from quetzal.model import stepmodel\n",
    "import pandas as pd\n",
    "import numpy as np\n",
    "from numba import jit\n",
    "import matplotlib.pyplot as plt"
   ]
  },
  {
   "cell_type": "code",
   "execution_count": 156,
   "metadata": {},
   "outputs": [],
   "source": [
    "\n",
    "city='Chicago-Sketch'\n",
    "#city = 'Winnipeg'\n",
    "#city = 'chicago-regional'\n",
    "\n",
    "data_dir = 'TransportationNetworks/'+city+'/'\n",
    "#city = 'ChicagoRegional'\n"
   ]
  },
  {
   "cell_type": "code",
   "execution_count": 157,
   "metadata": {},
   "outputs": [],
   "source": [
    "mat = []\n",
    "value=[]\n",
    "row=[1]\n",
    "with open(data_dir+city+'_trips.tntp') as f:\n",
    "    i=0\n",
    "    \n",
    "    for line in f:\n",
    "        if i>=5:\n",
    "            if (line[0:6]=='Origin'):\n",
    "                row.append(int(line.split()[1]))\n",
    "                mat.append(value)\n",
    "                value=[]\n",
    "            else:\n",
    "                for l in line.split(';')[:-1]:\n",
    "                    r = l.split(':')\n",
    "                    value.append( (int(r[0]) , float(r[1]) ) )\n",
    "\n",
    "            \n",
    "        i+=1\n",
    "    mat.append(value)"
   ]
  },
  {
   "cell_type": "code",
   "execution_count": 158,
   "metadata": {},
   "outputs": [
    {
     "data": {
      "text/plain": [
       "388"
      ]
     },
     "execution_count": 158,
     "metadata": {},
     "output_type": "execute_result"
    }
   ],
   "source": [
    "len(mat)"
   ]
  },
  {
   "cell_type": "code",
   "execution_count": 159,
   "metadata": {},
   "outputs": [],
   "source": [
    "volume=pd.DataFrame()\n",
    "for i in range(len(row)):\n",
    "    temp_df = pd.DataFrame(mat[i],columns=['destination','V'])\n",
    "    temp_df['origin'] = row[i]\n",
    "    volume=volume.append(temp_df)\n"
   ]
  },
  {
   "cell_type": "code",
   "execution_count": 160,
   "metadata": {},
   "outputs": [],
   "source": [
    "volume = volume.reset_index(drop=True)\n",
    "volume = volume[['origin','destination','V']]"
   ]
  },
  {
   "cell_type": "code",
   "execution_count": 161,
   "metadata": {},
   "outputs": [],
   "source": [
    "def drop_volumes(volumes,threshold=10e-2,log=False):\n",
    "    v = volumes.copy()\n",
    "    v = v.loc[v['origin'] != v['destination']]\n",
    "    v = v.loc[v['V'] > threshold]\n",
    "    if log:\n",
    "        print('Volume reduction', 100*round(1-v['V'].sum() / volumes['V'].sum(),3),'%')\n",
    "        print('OD number reduction',round(100*(1-len(v)/len(volumes)),3),'%')\n",
    "    # add volume on remaining OD such that the total volume is maintained.\n",
    "    v['V']=v['V'] * (volumes['V'].sum() / v['V'].sum())\n",
    "    return v"
   ]
  },
  {
   "cell_type": "code",
   "execution_count": 162,
   "metadata": {},
   "outputs": [],
   "source": [
    "v = volume.copy()\n",
    "#v = drop_volumes(v,threshold=6e-2,log=True)"
   ]
  },
  {
   "cell_type": "code",
   "execution_count": 163,
   "metadata": {},
   "outputs": [
    {
     "data": {
      "text/plain": [
       "142890"
      ]
     },
     "execution_count": 163,
     "metadata": {},
     "output_type": "execute_result"
    }
   ],
   "source": [
    "len(v)"
   ]
  },
  {
   "cell_type": "code",
   "execution_count": 164,
   "metadata": {},
   "outputs": [],
   "source": [
    "# Importing the networks into a Pandas dataframe consists of a single line of code\n",
    "# but we can also make sure all headers are lower case and without trailing spaces\n",
    "\n",
    "if city=='Chicago':\n",
    "    skip=8\n",
    "else:\n",
    "    skip=6\n",
    "net = pd.read_csv(data_dir+city+'_net.tntp', skiprows=skip, sep='\\t')\n",
    "\n",
    "trimmed= [s.strip().lower() for s in net.columns]\n",
    "net.columns = trimmed\n",
    "\n",
    "# And drop the silly first andlast columns\n",
    "net.drop(['~', ';'], axis=1, inplace=True)"
   ]
  },
  {
   "cell_type": "code",
   "execution_count": 165,
   "metadata": {},
   "outputs": [],
   "source": [
    "net = net.rename(columns={'init_node':'a','term_node':'b','free_flow_time':'time','b':'alpha','power':'beta'})\n",
    "net['a'] = 'rnode_'+net['a'].astype(str)\n",
    "net['b'] = 'rnode_'+net['b'].astype(str)\n"
   ]
  },
  {
   "cell_type": "code",
   "execution_count": 166,
   "metadata": {},
   "outputs": [],
   "source": [
    "zone_dict = {'rnode_'+str(r):'zone_'+str(r) for r in row}\n"
   ]
  },
  {
   "cell_type": "code",
   "execution_count": 167,
   "metadata": {},
   "outputs": [],
   "source": [
    "net['a'] = net['a'].apply(lambda x: zone_dict.get(x,x))\n",
    "net['b'] = net['b'].apply(lambda x: zone_dict.get(x,x))"
   ]
  },
  {
   "cell_type": "code",
   "execution_count": 168,
   "metadata": {},
   "outputs": [],
   "source": [
    "road_links = net[~(net['a'].str.contains('zone') | net['b'].str.contains('zone'))]\n",
    "zone_to_road = net[net['a'].str.contains('zone') | net['b'].str.contains('zone')]"
   ]
  },
  {
   "cell_type": "code",
   "execution_count": 169,
   "metadata": {},
   "outputs": [],
   "source": [
    "road_links = road_links.reset_index(drop=True)"
   ]
  },
  {
   "cell_type": "code",
   "execution_count": 170,
   "metadata": {},
   "outputs": [],
   "source": [
    "road_links.index = 'rlink_'+road_links.index.astype(str)\n",
    "road_links.index.name='index'"
   ]
  },
  {
   "cell_type": "code",
   "execution_count": 171,
   "metadata": {},
   "outputs": [],
   "source": [
    "road_links['limit']=1000"
   ]
  },
  {
   "cell_type": "code",
   "execution_count": 172,
   "metadata": {},
   "outputs": [],
   "source": [
    "road_links['vdf']='limited_bpr'"
   ]
  },
  {
   "cell_type": "code",
   "execution_count": 173,
   "metadata": {},
   "outputs": [],
   "source": [
    "#Toll: 0.1 minutes/cent Distance: 0.25 minutes/mile/\n"
   ]
  },
  {
   "cell_type": "code",
   "execution_count": 174,
   "metadata": {},
   "outputs": [],
   "source": [
    "if city=='Winnipeg':\n",
    "    road_links['penalty'] =0\n",
    "elif city=='Barcelona':\n",
    "    road_links['penalty'] =0\n",
    "elif city == 'ChicagoRegional':\n",
    "    road_links['penalty'] = road_links['toll']*100*0.1 + road_links['length']*0.25\n",
    "elif city  == 'Chicago-Sketch':\n",
    "    road_links['penalty'] = road_links['toll']*100*0.1 + road_links['length']*0.04\n",
    "else: \n",
    "    stop"
   ]
  },
  {
   "cell_type": "code",
   "execution_count": null,
   "metadata": {},
   "outputs": [],
   "source": []
  },
  {
   "cell_type": "code",
   "execution_count": 175,
   "metadata": {},
   "outputs": [],
   "source": [
    "zone_to_road = zone_to_road.reset_index(drop=True)\n",
    "zone_to_road['direction'] = 'access'\n",
    "zone_to_road['vdf']='limited_bpr'"
   ]
  },
  {
   "cell_type": "code",
   "execution_count": 176,
   "metadata": {},
   "outputs": [],
   "source": [
    "Vzone_dict = {r:'zone_'+str(r) for r in row}\n",
    "v['origin'] = v['origin'].apply(lambda x: Vzone_dict.get(x))\n",
    "v['destination'] = v['destination'].apply(lambda x: Vzone_dict.get(x))"
   ]
  },
  {
   "cell_type": "code",
   "execution_count": 177,
   "metadata": {},
   "outputs": [],
   "source": [
    "from numba import jit\n",
    "@jit(nopython=True)\n",
    "def limited_bpr(mat,der=False):\n",
    "    #columns in mat : 'alpha','beta','limit','flow','time','penalty','capacity'\n",
    "    #der return the second derivative (for the find beta...)\n",
    "    jam_time=[]\n",
    "    for i in range(mat.shape[0]):\n",
    "        alpha = mat[i,0]\n",
    "        beta = mat[i,1]\n",
    "        limit = mat[i,2]\n",
    "        V = mat[i,3]\n",
    "        t0 = mat[i,4]\n",
    "        penalty = mat[i,5]\n",
    "        Q = mat[i,6]\n",
    "        res =  t0 * (1 + alpha*np.power(V/Q, beta))\n",
    "        if res > t0*limit: # we plateau the curve at limit.\n",
    "            if der == False:\n",
    "                jam_time.append(t0*limit + penalty)\n",
    "            else:\n",
    "                jam_time.append(0)\n",
    "                \n",
    "        else:\n",
    "            if der == False:\n",
    "                jam_time.append(res + penalty)     \n",
    "            else:\n",
    "                der = (t0*alpha*beta/(Q**beta)) *np.power(V,beta-1)\n",
    "                jam_time.append(der)\n",
    "    return jam_time\n",
    "\n",
    "@jit(nopython=True)\n",
    "def free_flow(mat,der=False):\n",
    "    #columns in mat : 'alpha','beta','limit','flow','time','penalty','capacity'\n",
    "    #der return the derivative (for the find beta...)\n",
    "    t0 = mat[:,4]\n",
    "    penalty = mat[:,5]\n",
    "    if der == False:\n",
    "        return t0\n",
    "    else:\n",
    "        return t0*0\n",
    "\n",
    "\n",
    "\n",
    "vdf ={'limited_bpr':limited_bpr,'free_flow':free_flow}\n"
   ]
  },
  {
   "cell_type": "code",
   "execution_count": null,
   "metadata": {},
   "outputs": [],
   "source": []
  },
  {
   "cell_type": "markdown",
   "metadata": {},
   "source": [
    "## Import Model"
   ]
  },
  {
   "cell_type": "code",
   "execution_count": 178,
   "metadata": {},
   "outputs": [],
   "source": [
    "self =stepmodel.StepModel()"
   ]
  },
  {
   "cell_type": "code",
   "execution_count": 179,
   "metadata": {},
   "outputs": [],
   "source": [
    "self.volumes = v\n",
    "self.road_links = road_links"
   ]
  },
  {
   "cell_type": "code",
   "execution_count": 180,
   "metadata": {
    "scrolled": true
   },
   "outputs": [],
   "source": [
    "self.zone_to_road = zone_to_road"
   ]
  },
  {
   "cell_type": "code",
   "execution_count": null,
   "metadata": {},
   "outputs": [],
   "source": []
  },
  {
   "cell_type": "code",
   "execution_count": 181,
   "metadata": {},
   "outputs": [],
   "source": [
    "self.zones = [z[1] for z  in zone_dict.items()]"
   ]
  },
  {
   "cell_type": "code",
   "execution_count": null,
   "metadata": {},
   "outputs": [],
   "source": []
  },
  {
   "cell_type": "code",
   "execution_count": 182,
   "metadata": {
    "scrolled": false
   },
   "outputs": [
    {
     "name": "stdout",
     "output_type": "stream",
     "text": [
      "iteration | Phi |  Rel Gap (%)\n",
      "0 0.3 60.421\n",
      "1 0.2 37.381\n",
      "2 0.2016 21.512\n",
      "3 0.2125 8.569\n",
      "4 0.3 3.351\n",
      "5 0.7406 1.154\n",
      "6 0.8 0.204\n",
      "7 0.8 0.048\n",
      "8 0.05 0.61\n",
      "9 0.8 0.035\n",
      "10 0.2563 0.103\n",
      "11 0.0969 0.229\n",
      "12 0.2703 0.061\n",
      "13 0.1109 0.117\n",
      "14 0.0938 0.103\n",
      "15 0.1578 0.087\n",
      "16 0.2828 0.066\n",
      "17 0.4422 0.043\n",
      "18 0.8 0.022\n",
      "19 0.8 0.005\n",
      "20 0.4391 0.002\n",
      "21 0.1203 0.017\n",
      "22 0.0188 0.027\n",
      "23 0.0219 0.022\n",
      "24 0.025 0.027\n",
      "25 0.0312 0.024\n",
      "26 0.0422 0.014\n",
      "27 0.0375 0.016\n",
      "28 0.0297 0.018\n",
      "29 0.0297 0.013\n",
      "30 0.0453 0.013\n",
      "31 0.0906 0.016\n",
      "32 0.1188 0.011\n",
      "33 0.1625 0.009\n",
      "34 0.2516 0.009\n",
      "35 0.4406 0.006\n",
      "36 0.6672 0.003\n",
      "37 0.8 0.001\n",
      "38 0.7875 0.0\n",
      "39 0.2078 0.0\n",
      "40 0.0719 0.0\n",
      "41 0.0109 0.011\n",
      "42 0.0109 0.004\n",
      "43 0.0109 0.007\n",
      "44 0.0094 0.006\n",
      "45 0.0063 0.002\n",
      "46 0.0156 0.005\n",
      "47 0 -0.0\n",
      "Wall time: 38.8 s\n"
     ]
    }
   ],
   "source": [
    "%%time\n",
    "self.step_road_pathfinder(method='bfw',tolerance=0.000001,maxiters=100,vdf=vdf,volume_column='V',log=True,num_cores=4)"
   ]
  },
  {
   "cell_type": "code",
   "execution_count": 183,
   "metadata": {},
   "outputs": [
    {
     "data": {
      "text/plain": [
       "[<matplotlib.lines.Line2D at 0x270b06fcd60>]"
      ]
     },
     "execution_count": 183,
     "metadata": {},
     "output_type": "execute_result"
    },
    {
     "data": {
      "image/png": "[encoded data removed]",
      "text/plain": [
       "<Figure size 432x288 with 1 Axes>"
      ]
     },
     "metadata": {
      "needs_background": "light"
     },
     "output_type": "display_data"
    }
   ],
   "source": [
    "plt.semilogy(self.relgap)"
   ]
  },
  {
   "cell_type": "code",
   "execution_count": 184,
   "metadata": {},
   "outputs": [],
   "source": [
    "net = pd.read_csv(data_dir+city+'_flow.tntp', skiprows=skip, sep='\\t')\n"
   ]
  },
  {
   "cell_type": "code",
   "execution_count": 185,
   "metadata": {},
   "outputs": [],
   "source": [
    "# Importing the networks into a Pandas dataframe consists of a single line of code\n",
    "# but we can also make sure all headers are lower case and without trailing spaces\n",
    "if city=='Winnipeg':\n",
    "    skip=0\n",
    "elif city=='Barcelona':\n",
    "    skip=0\n",
    "else:\n",
    "    skip=0\n",
    "net = pd.read_csv(data_dir+city+'_flow.tntp', skiprows=skip, sep='\\t')\n",
    "\n",
    "trimmed= [s.strip().lower() for s in net.columns]\n",
    "net.columns = trimmed\n",
    "\n",
    "# And drop the silly first andlast columns\n",
    "#net.drop([';'], axis=1, inplace=True)"
   ]
  },
  {
   "cell_type": "code",
   "execution_count": 186,
   "metadata": {},
   "outputs": [],
   "source": [
    "net = net.rename(columns = {'from':'a','to':'b'})\n",
    "net['a'] = 'rnode_'+net['a'].astype(str)\n",
    "net['b'] = 'rnode_'+net['b'].astype(str)\n"
   ]
  },
  {
   "cell_type": "code",
   "execution_count": 187,
   "metadata": {},
   "outputs": [],
   "source": [
    "zone_dict = {'rnode_'+str(r):'zone_'+str(r) for r in row}\n",
    "\n",
    "net['a'] = net['a'].apply(lambda x: zone_dict.get(x,x))\n",
    "net['b'] = net['b'].apply(lambda x: zone_dict.get(x,x))"
   ]
  },
  {
   "cell_type": "code",
   "execution_count": 188,
   "metadata": {},
   "outputs": [],
   "source": [
    "rlinks_dict = self.road_links.reset_index().set_index(['a','b'])['index'].to_dict()"
   ]
  },
  {
   "cell_type": "code",
   "execution_count": 189,
   "metadata": {},
   "outputs": [],
   "source": [
    "net['index'] = net.set_index(['a','b']).index.map(rlinks_dict.get)"
   ]
  },
  {
   "cell_type": "code",
   "execution_count": 190,
   "metadata": {},
   "outputs": [],
   "source": [
    "net = net[~net['index'].isna()]"
   ]
  },
  {
   "cell_type": "code",
   "execution_count": 191,
   "metadata": {},
   "outputs": [],
   "source": [
    "net = net.set_index('index')"
   ]
  },
  {
   "cell_type": "code",
   "execution_count": 192,
   "metadata": {},
   "outputs": [],
   "source": [
    "self.road_links['cost'] = self.road_links['jam_time']+self.road_links['penalty']"
   ]
  },
  {
   "cell_type": "code",
   "execution_count": 193,
   "metadata": {},
   "outputs": [],
   "source": [
    "assert len(net) == len(self.road_links)"
   ]
  },
  {
   "cell_type": "code",
   "execution_count": 194,
   "metadata": {
    "scrolled": false
   },
   "outputs": [
    {
     "data": {
      "text/plain": [
       "Text(0.5, 1.0, 'Chicago-Sketch')"
      ]
     },
     "execution_count": 194,
     "metadata": {},
     "output_type": "execute_result"
    },
    {
     "data": {
      "image/png": "[encoded data removed]",
      "text/plain": [
       "<Figure size 720x720 with 1 Axes>"
      ]
     },
     "metadata": {
      "needs_background": "light"
     },
     "output_type": "display_data"
    }
   ],
   "source": [
    "fig, ax = plt.subplots(figsize=(10,10))\n",
    "\n",
    "plt.scatter(self.road_links['cost'],net['cost'],alpha=1,s=10)\n",
    "maxvalue = self.road_links['cost'].max()\n",
    "plt.plot([0,maxvalue],[0,maxvalue],'--k',alpha=0.3)\n",
    "\n",
    "plt.xlabel('jam time Quetzal')\n",
    "plt.ylabel('jam time best solution')\n",
    "plt.title(city)"
   ]
  },
  {
   "cell_type": "code",
   "execution_count": 195,
   "metadata": {},
   "outputs": [
    {
     "data": {
      "text/plain": [
       "Text(0.5, 1.0, 'Chicago-Sketch')"
      ]
     },
     "execution_count": 195,
     "metadata": {},
     "output_type": "execute_result"
    },
    {
     "data": {
      "image/png": "[encoded data removed]",
      "text/plain": [
       "<Figure size 720x720 with 1 Axes>"
      ]
     },
     "metadata": {
      "needs_background": "light"
     },
     "output_type": "display_data"
    }
   ],
   "source": [
    "fig, ax = plt.subplots(figsize=(10,10))\n",
    "\n",
    "plt.scatter(self.road_links['flow'],net['volume'],alpha=1,s=10)\n",
    "maxvalue = self.road_links['flow'].max()\n",
    "plt.plot([0,maxvalue],[0,maxvalue],'--k',alpha=0.3)\n",
    "plt.xlabel('volume Quetzal')\n",
    "plt.ylabel('volume best solution')\n",
    "plt.title(city)"
   ]
  },
  {
   "cell_type": "markdown",
   "metadata": {},
   "source": [
    "# objective function"
   ]
  },
  {
   "cell_type": "code",
   "execution_count": 196,
   "metadata": {},
   "outputs": [
    {
     "name": "stdout",
     "output_type": "stream",
     "text": [
      "quetzal 18847155.800228205\n"
     ]
    }
   ],
   "source": [
    "print('quetzal', (self.road_links['flow']*self.road_links['cost']).sum())"
   ]
  },
  {
   "cell_type": "code",
   "execution_count": 197,
   "metadata": {},
   "outputs": [
    {
     "name": "stdout",
     "output_type": "stream",
     "text": [
      "best solution 18856947.744312614\n"
     ]
    }
   ],
   "source": [
    "print('best solution', (net['volume']*net['cost']).sum())"
   ]
  },
  {
   "cell_type": "code",
   "execution_count": 198,
   "metadata": {},
   "outputs": [
    {
     "name": "stdout",
     "output_type": "stream",
     "text": [
      "diff= 0.05192751349359925 %\n"
     ]
    }
   ],
   "source": [
    "print('diff=',100*(1-(self.road_links['flow']*self.road_links['cost']).sum()/(net['volume']*net['cost']).sum()), '%')"
   ]
  },
  {
   "cell_type": "code",
   "execution_count": 199,
   "metadata": {},
   "outputs": [],
   "source": [
    "self.road_links['volume_diff'] = self.road_links['flow'] - net['volume']"
   ]
  },
  {
   "cell_type": "code",
   "execution_count": 200,
   "metadata": {},
   "outputs": [
    {
     "data": {
      "text/plain": [
       "<AxesSubplot:>"
      ]
     },
     "execution_count": 200,
     "metadata": {},
     "output_type": "execute_result"
    },
    {
     "data": {
      "image/png": "[encoded data removed]",
      "text/plain": [
       "<Figure size 432x288 with 1 Axes>"
      ]
     },
     "metadata": {
      "needs_background": "light"
     },
     "output_type": "display_data"
    }
   ],
   "source": [
    "self.road_links['volume_diff'].hist(bins=100)"
   ]
  },
  {
   "cell_type": "code",
   "execution_count": null,
   "metadata": {},
   "outputs": [],
   "source": []
  },
  {
   "cell_type": "code",
   "execution_count": null,
   "metadata": {},
   "outputs": [],
   "source": []
  }
 ],
 "metadata": {
  "interpreter": {
   "hash": "48e369f0c84e89d432db6e03bde2ad565092888fc98e88e553b1bf37a821d40b"
  },
  "kernelspec": {
   "display_name": "Python [conda env:patate]",
   "language": "python",
   "name": "conda-env-patate-py"
  },
  "language_info": {
   "codemirror_mode": {
    "name": "ipython",
    "version": 3
   },
   "file_extension": ".py",
   "mimetype": "text/x-python",
   "name": "python",
   "nbconvert_exporter": "python",
   "pygments_lexer": "ipython3",
   "version": "3.8.12"
  }
 },
 "nbformat": 4,
 "nbformat_minor": 4
}
