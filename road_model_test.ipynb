{
 "cells": [
  {
   "cell_type": "code",
   "execution_count": 553,
   "metadata": {},
   "outputs": [],
   "source": [
    "import sys\n",
    "sys.path.insert(0, r'../../../quetzal')\n",
    "from quetzal.model import stepmodel\n",
    "import pandas as pd\n",
    "import numpy as np\n",
    "from numba import jit\n",
    "import matplotlib.pyplot as plt"
   ]
  },
  {
   "cell_type": "code",
   "execution_count": 554,
   "metadata": {},
   "outputs": [],
   "source": [
    "\n",
    "#city='Chicago-Sketch'\n",
    "#city = 'Winnipeg'\n",
    "city = 'chicago-regional'\n",
    "\n",
    "data_dir = 'TransportationNetworks/'+city+'/'\n",
    "city = 'ChicagoRegional'\n"
   ]
  },
  {
   "cell_type": "code",
   "execution_count": 555,
   "metadata": {},
   "outputs": [],
   "source": [
    "mat = []\n",
    "value=[]\n",
    "row=[1]\n",
    "with open(data_dir+city+'_trips.tntp') as f:\n",
    "    i=0\n",
    "    \n",
    "    for line in f:\n",
    "        if i>=5:\n",
    "            if (line[0:6]=='Origin'):\n",
    "                row.append(int(line.split()[1]))\n",
    "                mat.append(value)\n",
    "                value=[]\n",
    "            else:\n",
    "                for l in line.split(';')[:-1]:\n",
    "                    r = l.split(':')\n",
    "                    value.append( (int(r[0]) , float(r[1]) ) )\n",
    "\n",
    "            \n",
    "        i+=1\n",
    "    mat.append(value)"
   ]
  },
  {
   "cell_type": "code",
   "execution_count": 556,
   "metadata": {},
   "outputs": [
    {
     "data": {
      "text/plain": [
       "1790"
      ]
     },
     "execution_count": 556,
     "metadata": {},
     "output_type": "execute_result"
    }
   ],
   "source": [
    "len(mat)"
   ]
  },
  {
   "cell_type": "code",
   "execution_count": 557,
   "metadata": {},
   "outputs": [],
   "source": [
    "volume=pd.DataFrame()\n",
    "for i in range(len(row)):\n",
    "    temp_df = pd.DataFrame(mat[i],columns=['destination','V'])\n",
    "    temp_df['origin'] = row[i]\n",
    "    volume=volume.append(temp_df)\n"
   ]
  },
  {
   "cell_type": "code",
   "execution_count": 558,
   "metadata": {},
   "outputs": [],
   "source": [
    "volume = volume.reset_index(drop=True)\n",
    "volume = volume[['origin','destination','V']]"
   ]
  },
  {
   "cell_type": "code",
   "execution_count": 559,
   "metadata": {},
   "outputs": [],
   "source": [
    "def drop_volumes(volumes,threshold=10e-2,log=False):\n",
    "    v = volumes.copy()\n",
    "    #v = v.loc[v['origin'] != v['destination']]\n",
    "    v = v.loc[v['V'] > threshold]\n",
    "    if log:\n",
    "        print('Volume reduction', 100*round(1-v['V'].sum() / volumes['V'].sum(),3),'%')\n",
    "        print('OD number reduction',round(100*(1-len(v)/len(volumes)),3),'%')\n",
    "    # add volume on remaining OD such that the total volume is maintained.\n",
    "    v['V']=v['V'] * (volumes['V'].sum() / v['V'].sum())\n",
    "    return v"
   ]
  },
  {
   "cell_type": "code",
   "execution_count": 560,
   "metadata": {},
   "outputs": [
    {
     "name": "stdout",
     "output_type": "stream",
     "text": [
      "Volume reduction -0.0 %\n",
      "OD number reduction 26.734 %\n"
     ]
    }
   ],
   "source": [
    "v = volume.copy()\n",
    "v = drop_volumes(v,threshold=6e-3,log=True)"
   ]
  },
  {
   "cell_type": "code",
   "execution_count": 561,
   "metadata": {},
   "outputs": [
    {
     "name": "stdout",
     "output_type": "stream",
     "text": [
      "3.2664826010056247 % des volumes Origine = Destination\n",
      "les résultats vont différé de la reference si on les élimine.\n"
     ]
    }
   ],
   "source": [
    "print(100*(v.loc[v['origin'] == v['destination']]['V'].sum())/sum(v['V']),'% des volumes Origine = Destination')\n",
    "print('les résultats vont différé de la reference si on les élimine.')"
   ]
  },
  {
   "cell_type": "code",
   "execution_count": 562,
   "metadata": {},
   "outputs": [
    {
     "data": {
      "text/plain": [
       "2297945"
      ]
     },
     "execution_count": 562,
     "metadata": {},
     "output_type": "execute_result"
    }
   ],
   "source": [
    "len(v)"
   ]
  },
  {
   "cell_type": "code",
   "execution_count": 563,
   "metadata": {},
   "outputs": [],
   "source": [
    "# Importing the networks into a Pandas dataframe consists of a single line of code\n",
    "# but we can also make sure all headers are lower case and without trailing spaces\n",
    "\n",
    "if city=='Chicago':\n",
    "    skip=8\n",
    "else:\n",
    "    skip=6\n",
    "net = pd.read_csv(data_dir+city+'_net.tntp', skiprows=skip, sep='\\t')\n",
    "\n",
    "trimmed= [s.strip().lower() for s in net.columns]\n",
    "net.columns = trimmed\n",
    "\n",
    "# And drop the silly first andlast columns\n",
    "net.drop(['~', ';'], axis=1, inplace=True)"
   ]
  },
  {
   "cell_type": "code",
   "execution_count": 564,
   "metadata": {},
   "outputs": [],
   "source": [
    "net = net.rename(columns={'init_node':'a','term_node':'b','free_flow_time':'time','b':'alpha','power':'beta'})\n",
    "net['a'] = 'rnode_'+net['a'].astype(str)\n",
    "net['b'] = 'rnode_'+net['b'].astype(str)\n"
   ]
  },
  {
   "cell_type": "code",
   "execution_count": 565,
   "metadata": {},
   "outputs": [],
   "source": [
    "zone_dict = {'rnode_'+str(r):'zone_'+str(r) for r in row}\n"
   ]
  },
  {
   "cell_type": "code",
   "execution_count": 566,
   "metadata": {},
   "outputs": [],
   "source": [
    "net['a'] = net['a'].apply(lambda x: zone_dict.get(x,x))\n",
    "net['b'] = net['b'].apply(lambda x: zone_dict.get(x,x))"
   ]
  },
  {
   "cell_type": "code",
   "execution_count": 567,
   "metadata": {},
   "outputs": [],
   "source": [
    "road_links = net[~(net['a'].str.contains('zone') | net['b'].str.contains('zone'))]\n",
    "zone_to_road = net[net['a'].str.contains('zone') | net['b'].str.contains('zone')]"
   ]
  },
  {
   "cell_type": "code",
   "execution_count": 568,
   "metadata": {},
   "outputs": [],
   "source": [
    "road_links = road_links.reset_index(drop=True)"
   ]
  },
  {
   "cell_type": "code",
   "execution_count": 569,
   "metadata": {},
   "outputs": [],
   "source": [
    "road_links.index = 'rlink_'+road_links.index.astype(str)\n",
    "road_links.index.name='index'"
   ]
  },
  {
   "cell_type": "code",
   "execution_count": 570,
   "metadata": {},
   "outputs": [],
   "source": [
    "road_links['limit']=1000"
   ]
  },
  {
   "cell_type": "code",
   "execution_count": 571,
   "metadata": {},
   "outputs": [],
   "source": [
    "road_links['vdf']='limited_bpr'"
   ]
  },
  {
   "cell_type": "code",
   "execution_count": 572,
   "metadata": {},
   "outputs": [],
   "source": [
    "#Toll: 0.1 minutes/cent Distance: 0.25 minutes/mile/\n"
   ]
  },
  {
   "cell_type": "code",
   "execution_count": 573,
   "metadata": {},
   "outputs": [],
   "source": [
    "if city=='Winnipeg':\n",
    "    road_links['penalty'] =0\n",
    "elif city=='Barcelona':\n",
    "    road_links['penalty'] =0\n",
    "elif city == 'ChicagoRegional':\n",
    "    road_links['penalty'] = road_links['toll']*0.1 + road_links['length']*0.25\n",
    "elif city  == 'Chicago-Sketch':\n",
    "    road_links['penalty'] = road_links['toll']*100*0.1 + road_links['length']*0.04\n",
    "else: \n",
    "    stop"
   ]
  },
  {
   "cell_type": "code",
   "execution_count": null,
   "metadata": {},
   "outputs": [],
   "source": []
  },
  {
   "cell_type": "code",
   "execution_count": 574,
   "metadata": {},
   "outputs": [],
   "source": [
    "zone_to_road = zone_to_road.reset_index(drop=True)\n",
    "zone_to_road['direction'] = 'access'\n",
    "zone_to_road['vdf']='limited_bpr'"
   ]
  },
  {
   "cell_type": "code",
   "execution_count": 575,
   "metadata": {},
   "outputs": [],
   "source": [
    "Vzone_dict = {r:'zone_'+str(r) for r in row}\n",
    "v['origin'] = v['origin'].apply(lambda x: Vzone_dict.get(x))\n",
    "v['destination'] = v['destination'].apply(lambda x: Vzone_dict.get(x))"
   ]
  },
  {
   "cell_type": "code",
   "execution_count": 576,
   "metadata": {},
   "outputs": [],
   "source": [
    "from numba import jit\n",
    "@jit(nopython=True)\n",
    "def limited_bpr(mat,der=False):\n",
    "    #columns in mat : 'alpha','beta','limit','flow','time','penalty','capacity'\n",
    "    #der return the second derivative (for the find beta...)\n",
    "    jam_time=[]\n",
    "    for i in range(mat.shape[0]):\n",
    "        alpha = mat[i,0]\n",
    "        beta = mat[i,1]\n",
    "        limit = mat[i,2]\n",
    "        V = mat[i,3]\n",
    "        t0 = mat[i,4]\n",
    "        penalty = mat[i,5]\n",
    "        Q = mat[i,6]\n",
    "        res =  t0 * (1 + alpha*np.power(V/Q, beta))\n",
    "        if res > t0*limit: # we plateau the curve at limit.\n",
    "            if der == False:\n",
    "                jam_time.append(t0*limit + penalty)\n",
    "            else:\n",
    "                jam_time.append(0)\n",
    "                \n",
    "        else:\n",
    "            if der == False:\n",
    "                jam_time.append(res + penalty)     \n",
    "            else:\n",
    "                der = (t0*alpha*beta/(Q**beta)) *np.power(V,beta-1)\n",
    "                jam_time.append(der)\n",
    "    return jam_time\n",
    "\n",
    "@jit(nopython=True)\n",
    "def free_flow(mat,der=False):\n",
    "    #columns in mat : 'alpha','beta','limit','flow','time','penalty','capacity'\n",
    "    #der return the derivative (for the find beta...)\n",
    "    t0 = mat[:,4]\n",
    "    penalty = mat[:,5]\n",
    "    if der == False:\n",
    "        return t0\n",
    "    else:\n",
    "        return t0*0\n",
    "\n",
    "\n",
    "\n",
    "vdf ={'limited_bpr':limited_bpr,'free_flow':free_flow}\n"
   ]
  },
  {
   "cell_type": "code",
   "execution_count": null,
   "metadata": {},
   "outputs": [],
   "source": []
  },
  {
   "cell_type": "markdown",
   "metadata": {},
   "source": [
    "## Import Model"
   ]
  },
  {
   "cell_type": "code",
   "execution_count": 577,
   "metadata": {},
   "outputs": [],
   "source": [
    "self =stepmodel.StepModel()"
   ]
  },
  {
   "cell_type": "code",
   "execution_count": 578,
   "metadata": {},
   "outputs": [],
   "source": [
    "self.volumes = v\n",
    "self.road_links = road_links"
   ]
  },
  {
   "cell_type": "code",
   "execution_count": 579,
   "metadata": {
    "scrolled": true
   },
   "outputs": [],
   "source": [
    "self.zone_to_road = zone_to_road"
   ]
  },
  {
   "cell_type": "code",
   "execution_count": 580,
   "metadata": {},
   "outputs": [],
   "source": [
    "self.zones = [z[1] for z  in zone_dict.items()]"
   ]
  },
  {
   "cell_type": "code",
   "execution_count": null,
   "metadata": {},
   "outputs": [],
   "source": []
  },
  {
   "cell_type": "code",
   "execution_count": 581,
   "metadata": {
    "scrolled": false
   },
   "outputs": [
    {
     "name": "stdout",
     "output_type": "stream",
     "text": [
      "iteration | Phi |  Rel Gap (%)\n",
      "0 0.1281 85.123\n",
      "1 0.1281 73.582\n",
      "2 0.1 57.476\n",
      "3 0.1094 43.874\n",
      "4 0.0844 30.169\n",
      "5 0.1 21.563\n",
      "6 0.0906 14.525\n",
      "7 0.0969 10.351\n",
      "8 0.0938 7.627\n",
      "9 0.1172 5.53\n",
      "10 0.1187 4.029\n",
      "11 0.1469 3.203\n",
      "12 0.2 2.494\n",
      "13 0.2969 1.782\n",
      "14 0.4 1.255\n",
      "15 0.7125 0.769\n",
      "16 0.8 0.241\n",
      "17 0.8 0.059\n",
      "18 0.0453 1.204\n",
      "19 0.0578 0.569\n",
      "20 0.0328 0.63\n",
      "21 0.0469 0.521\n",
      "22 0.0563 0.43\n",
      "23 0.0469 0.349\n",
      "24 0.0531 0.31\n",
      "25 0.0641 0.262\n",
      "26 0.0875 0.224\n",
      "27 0.1156 0.184\n",
      "28 0.1125 0.166\n",
      "29 0.1156 0.146\n",
      "30 0.1266 0.12\n",
      "31 0.175 0.103\n",
      "32 0.1859 0.088\n",
      "33 0.1938 0.069\n",
      "34 0.2625 0.054\n",
      "35 0.2906 0.042\n",
      "36 0.2781 0.033\n",
      "37 0.3297 0.024\n",
      "38 0.4828 0.018\n",
      "39 0.4203 0.012\n",
      "40 0.4359 0.009\n",
      "41 0.3781 0.007\n",
      "42 0.2609 0.005\n",
      "43 0.2766 0.005\n",
      "44 0.2547 0.005\n",
      "45 0.2172 0.006\n",
      "46 0.1688 0.006\n",
      "47 0.1484 0.008\n",
      "48 0.1438 0.008\n",
      "49 0.1281 0.009\n",
      "50 0.1234 0.009\n",
      "51 0.1016 0.01\n",
      "52 0.0625 0.011\n",
      "53 0.0453 0.012\n",
      "54 0.05 0.013\n",
      "55 0.0609 0.013\n",
      "56 0.0469 0.014\n",
      "57 0.0641 0.013\n",
      "58 0.0328 0.014\n",
      "59 0.0516 0.014\n",
      "60 0.0469 0.014\n",
      "61 0.0469 0.012\n",
      "62 0.05 0.013\n",
      "63 0.0469 0.012\n",
      "64 0.05 0.013\n",
      "65 0.0438 0.014\n",
      "66 0.0344 0.014\n",
      "67 0.0219 0.014\n",
      "68 0.0266 0.014\n",
      "69 0.0203 0.015\n",
      "70 0.0203 0.014\n",
      "71 0.025 0.014\n",
      "72 0.0297 0.013\n",
      "73 0.0312 0.012\n",
      "74 0.0297 0.012\n",
      "75 0.0359 0.012\n",
      "76 0.0359 0.011\n",
      "77 0.0375 0.01\n",
      "78 0.0344 0.01\n",
      "79 0.0422 0.01\n",
      "80 0.0406 0.009\n",
      "81 0.0453 0.009\n",
      "82 0.0328 0.009\n",
      "83 0.0281 0.009\n",
      "84 0.0297 0.009\n",
      "85 0.0172 0.01\n",
      "86 0.0219 0.009\n",
      "87 0.0234 0.009\n",
      "88 0.0203 0.008\n",
      "89 0.0188 0.008\n",
      "90 0.0188 0.008\n",
      "91 0.0219 0.008\n",
      "92 0.0141 0.008\n",
      "93 0.025 0.007\n",
      "94 0.0188 0.007\n",
      "95 0.0234 0.007\n",
      "96 0.0203 0.008\n",
      "97 0.0188 0.007\n",
      "98 0.0203 0.007\n",
      "99 0.0156 0.007\n",
      "Wall time: 31min 16s\n"
     ]
    }
   ],
   "source": [
    "%%time\n",
    "self.step_road_pathfinder(method='bfw',tolerance=0.000001,maxiters=100,vdf=vdf,volume_column='V',log=True,num_cores=4)"
   ]
  },
  {
   "cell_type": "code",
   "execution_count": 582,
   "metadata": {},
   "outputs": [
    {
     "data": {
      "text/plain": [
       "[<matplotlib.lines.Line2D at 0x264643b0700>]"
      ]
     },
     "execution_count": 582,
     "metadata": {},
     "output_type": "execute_result"
    },
    {
     "data": {
      "image/png": "[encoded data removed]",
      "text/plain": [
       "<Figure size 432x288 with 1 Axes>"
      ]
     },
     "metadata": {
      "needs_background": "light"
     },
     "output_type": "display_data"
    }
   ],
   "source": [
    "plt.semilogy(self.relgap)"
   ]
  },
  {
   "cell_type": "code",
   "execution_count": 583,
   "metadata": {},
   "outputs": [],
   "source": [
    "net = pd.read_csv(data_dir+city+'_flow.tntp', skiprows=skip, sep='\\t')\n"
   ]
  },
  {
   "cell_type": "code",
   "execution_count": 584,
   "metadata": {},
   "outputs": [],
   "source": [
    "# Importing the networks into a Pandas dataframe consists of a single line of code\n",
    "# but we can also make sure all headers are lower case and without trailing spaces\n",
    "if city=='Winnipeg':\n",
    "    skip=0\n",
    "elif city=='Barcelona':\n",
    "    skip=0\n",
    "elif city == 'ChicagoRegional':\n",
    "    skip=6\n",
    "else:\n",
    "    skip=0\n",
    "net = pd.read_csv(data_dir+city+'_flow.tntp', skiprows=skip, sep='\\t')\n",
    "\n",
    "trimmed= [s.strip().lower() for s in net.columns]\n",
    "net.columns = trimmed\n",
    "if city == 'ChicagoRegional':\n",
    "    # And drop the silly first andlast columns\n",
    "    net.drop([';'], axis=1, inplace=True)"
   ]
  },
  {
   "cell_type": "code",
   "execution_count": null,
   "metadata": {},
   "outputs": [],
   "source": []
  },
  {
   "cell_type": "code",
   "execution_count": 585,
   "metadata": {},
   "outputs": [],
   "source": [
    "if city == 'ChicagoRegional':\n",
    "    net = net.rename(columns = {'tail':'a','head':'b'})\n",
    "else:\n",
    "    net = net.rename(columns = {'from':'a','to':'b'})\n",
    "net['a'] = 'rnode_'+net['a'].astype(str)\n",
    "net['b'] = 'rnode_'+net['b'].astype(str)\n"
   ]
  },
  {
   "cell_type": "code",
   "execution_count": 586,
   "metadata": {},
   "outputs": [],
   "source": [
    "zone_dict = {'rnode_'+str(r):'zone_'+str(r) for r in row}\n",
    "\n",
    "net['a'] = net['a'].apply(lambda x: zone_dict.get(x,x))\n",
    "net['b'] = net['b'].apply(lambda x: zone_dict.get(x,x))"
   ]
  },
  {
   "cell_type": "code",
   "execution_count": 587,
   "metadata": {},
   "outputs": [],
   "source": [
    "rlinks_dict = self.road_links.reset_index().set_index(['a','b'])['index'].to_dict()"
   ]
  },
  {
   "cell_type": "code",
   "execution_count": 588,
   "metadata": {},
   "outputs": [],
   "source": [
    "net['index'] = net.set_index(['a','b']).index.map(rlinks_dict.get)"
   ]
  },
  {
   "cell_type": "code",
   "execution_count": 589,
   "metadata": {},
   "outputs": [],
   "source": [
    "net = net[~net['index'].isna()]"
   ]
  },
  {
   "cell_type": "code",
   "execution_count": 590,
   "metadata": {},
   "outputs": [],
   "source": [
    "net = net.set_index('index')"
   ]
  },
  {
   "cell_type": "code",
   "execution_count": 591,
   "metadata": {},
   "outputs": [],
   "source": [
    "self.road_links['cost'] = self.road_links['jam_time']+self.road_links['penalty']"
   ]
  },
  {
   "cell_type": "code",
   "execution_count": 592,
   "metadata": {},
   "outputs": [],
   "source": [
    "assert len(net) == len(self.road_links)"
   ]
  },
  {
   "cell_type": "code",
   "execution_count": 593,
   "metadata": {},
   "outputs": [],
   "source": [
    "from sklearn import linear_model\n",
    "from sklearn.metrics import mean_squared_error, r2_score"
   ]
  },
  {
   "cell_type": "code",
   "execution_count": 625,
   "metadata": {},
   "outputs": [
    {
     "data": {
      "text/plain": [
       "'0.007'"
      ]
     },
     "execution_count": 625,
     "metadata": {},
     "output_type": "execute_result"
    }
   ],
   "source": [
    "relgap = str(round(self.relgap[-1],3))\n",
    "relgap"
   ]
  },
  {
   "cell_type": "code",
   "execution_count": 626,
   "metadata": {},
   "outputs": [],
   "source": [
    "#relgap=' (1 iteration)'\n",
    "#relgap='0'"
   ]
  },
  {
   "cell_type": "code",
   "execution_count": 627,
   "metadata": {},
   "outputs": [],
   "source": [
    "x = self.road_links['cost']\n",
    "y = net['cost']\n",
    "\n",
    "regr = linear_model.LinearRegression(fit_intercept=False)#\n",
    "\n",
    "regr.fit(x[:, np.newaxis], y)\n",
    "y_pred = regr.predict(x[:, np.newaxis])\n",
    "r2 = r2_score(y, y_pred)\n",
    "slope = regr.coef_[0]\n",
    "intercept=0"
   ]
  },
  {
   "cell_type": "code",
   "execution_count": 628,
   "metadata": {
    "scrolled": false
   },
   "outputs": [
    {
     "data": {
      "text/plain": [
       "Text(0.5, 1.0, 'comparaison temps écoulement sur chaque liens ChicagoRegional (relgap=0.007%)')"
      ]
     },
     "execution_count": 628,
     "metadata": {},
     "output_type": "execute_result"
    },
    {
     "data": {
      "image/png": "[encoded data removed]",
      "text/plain": [
       "<Figure size 720x720 with 1 Axes>"
      ]
     },
     "metadata": {
      "needs_background": "light"
     },
     "output_type": "display_data"
    }
   ],
   "source": [
    "fig, ax = plt.subplots(figsize=(10,10))\n",
    "\n",
    "plt.scatter(x,y,alpha=1,s=10)\n",
    "maxvalue = self.road_links['cost'].max()\n",
    "plt.plot([0,maxvalue],[0,maxvalue],'--k',alpha=0.3)\n",
    "textstr = '\\n'.join((\n",
    "    r'$\\mathrm{slope}=%.2f$' % (slope, ),\n",
    "    r'$\\mathrm{intercept}=%.2f$' % (intercept, ),\n",
    "    r'$\\mathrm{R^2}=%.2f$' % (r2, )))\n",
    "# these are matplotlib.patch.Patch properties\n",
    "props = dict(boxstyle='round', facecolor='white', alpha=0.5)\n",
    "# place a text box in upper left in axes coords\n",
    "ax.text(0.05, 0.95, textstr, transform=ax.transAxes, fontsize=14,\n",
    "        verticalalignment='top', bbox=props)\n",
    "plt.plot(self.road_links['cost'],self.road_links['cost']*slope+intercept,'k',alpha=0.3)\n",
    "\n",
    "plt.xlabel('jam time Quetzal (mins)')\n",
    "plt.ylabel('jam time best solution (mins)')\n",
    "plt.title('comparaison temps écoulement sur chaque liens '+city+' (relgap='+relgap+'%)')\n",
    "#plt.title('comparaison temps écoulement sur chaque liens '+city +relgap)"
   ]
  },
  {
   "cell_type": "code",
   "execution_count": null,
   "metadata": {},
   "outputs": [],
   "source": []
  },
  {
   "cell_type": "code",
   "execution_count": 632,
   "metadata": {},
   "outputs": [],
   "source": [
    "x = self.road_links['flow']\n",
    "y = net['volume']\n",
    "\n",
    "regr = linear_model.LinearRegression(fit_intercept=False)#\n",
    "\n",
    "regr.fit(x[:, np.newaxis], y)\n",
    "y_pred = regr.predict(x[:, np.newaxis])\n",
    "r2 = r2_score(y, y_pred)\n",
    "slope = regr.coef_[0]\n",
    "intercept=0"
   ]
  },
  {
   "cell_type": "code",
   "execution_count": 633,
   "metadata": {},
   "outputs": [
    {
     "data": {
      "image/png": "[encoded data removed]",
      "text/plain": [
       "<Figure size 720x720 with 1 Axes>"
      ]
     },
     "metadata": {
      "needs_background": "light"
     },
     "output_type": "display_data"
    }
   ],
   "source": [
    "fig, ax = plt.subplots(figsize=(10,10))\n",
    "\n",
    "plt.scatter(x,y,alpha=1,s=10)\n",
    "maxvalue = x.max()\n",
    "plt.plot([0,maxvalue],[0,maxvalue],'--k',alpha=0.3)\n",
    "textstr = '\\n'.join((\n",
    "    r'$\\mathrm{slope}=%.2f$' % (slope, ),\n",
    "    r'$\\mathrm{intercept}=%.2f$' % (intercept, ),\n",
    "    r'$\\mathrm{R^2}=%.2f$' % (r2, )))\n",
    "\n",
    "# these are matplotlib.patch.Patch properties\n",
    "props = dict(boxstyle='round', facecolor='white', alpha=0.5)\n",
    "# place a text box in upper left in axes coords\n",
    "ax.text(0.05, 0.95, textstr, transform=ax.transAxes, fontsize=14,\n",
    "        verticalalignment='top', bbox=props)\n",
    "plt.plot(x,x*slope+intercept,'k',alpha=0.5)\n",
    "\n",
    "plt.xlabel('volume Quetzal')\n",
    "plt.ylabel('volume best solution')\n",
    "plt.xlim([0,maxvalue])\n",
    "plt.ylim([0,maxvalue])\n",
    "plt.title('comparaison des volumes sur chaque liens '+city+' (relgap='+relgap+'%)')\n",
    "#plt.title('comparaison des volumes sur chaque liens '+city+relgap)\n",
    "ax.set_aspect('equal', adjustable='box')"
   ]
  },
  {
   "cell_type": "code",
   "execution_count": 635,
   "metadata": {},
   "outputs": [
    {
     "data": {
      "text/plain": [
       "1.0000916175871017"
      ]
     },
     "execution_count": 635,
     "metadata": {},
     "output_type": "execute_result"
    }
   ],
   "source": [
    "slope"
   ]
  },
  {
   "cell_type": "code",
   "execution_count": 650,
   "metadata": {},
   "outputs": [
    {
     "data": {
      "text/plain": [
       "35436"
      ]
     },
     "execution_count": 650,
     "metadata": {},
     "output_type": "execute_result"
    }
   ],
   "source": [
    "len(self.road_links['flow'])"
   ]
  },
  {
   "cell_type": "code",
   "execution_count": 649,
   "metadata": {},
   "outputs": [
    {
     "data": {
      "text/plain": [
       "35436"
      ]
     },
     "execution_count": 649,
     "metadata": {},
     "output_type": "execute_result"
    }
   ],
   "source": [
    "len(net['volume'])"
   ]
  },
  {
   "cell_type": "markdown",
   "metadata": {},
   "source": [
    "# objective function"
   ]
  },
  {
   "cell_type": "code",
   "execution_count": 636,
   "metadata": {},
   "outputs": [
    {
     "name": "stdout",
     "output_type": "stream",
     "text": [
      "quetzal 38129532.112039514\n"
     ]
    }
   ],
   "source": [
    "print('quetzal', (self.road_links['flow']*self.road_links['cost']).sum())"
   ]
  },
  {
   "cell_type": "code",
   "execution_count": 637,
   "metadata": {},
   "outputs": [
    {
     "name": "stdout",
     "output_type": "stream",
     "text": [
      "best solution 38138978.12884268\n"
     ]
    }
   ],
   "source": [
    "print('best solution', (net['volume']*net['cost']).sum())"
   ]
  },
  {
   "cell_type": "code",
   "execution_count": 639,
   "metadata": {},
   "outputs": [
    {
     "name": "stdout",
     "output_type": "stream",
     "text": [
      "diff= 0.0247673568265383 %\n"
     ]
    }
   ],
   "source": [
    "print('diff=',100*(1-(self.road_links['flow']*self.road_links['cost']).sum()/(net['volume']*net['cost']).sum()), '%')"
   ]
  },
  {
   "cell_type": "code",
   "execution_count": 647,
   "metadata": {},
   "outputs": [
    {
     "data": {
      "text/plain": [
       "-9446.01680316776"
      ]
     },
     "execution_count": 647,
     "metadata": {},
     "output_type": "execute_result"
    }
   ],
   "source": [
    "(self.road_links['flow']*self.road_links['cost']).sum()-(net['volume']*net['cost']).sum()"
   ]
  },
  {
   "cell_type": "markdown",
   "metadata": {},
   "source": [
    "# OD time"
   ]
  },
  {
   "cell_type": "code",
   "execution_count": 603,
   "metadata": {},
   "outputs": [],
   "source": [
    "car=self.copy()\n",
    "car.road_links['time'] = car.road_links['cost']\n",
    "#pour le shortest path sur le reseau a vide\n",
    "#car.road_links['time'] = car.road_links['time'] + car.road_links['penalty']"
   ]
  },
  {
   "cell_type": "code",
   "execution_count": 604,
   "metadata": {},
   "outputs": [],
   "source": [
    "car.analysis_car_los()\n",
    "car.analysis_car_time()"
   ]
  },
  {
   "cell_type": "code",
   "execution_count": 605,
   "metadata": {},
   "outputs": [],
   "source": [
    "ref = self.copy()\n",
    "ref.road_links['time'] = net['cost']\n",
    "ref.road_links['volume'] = net['volume']"
   ]
  },
  {
   "cell_type": "code",
   "execution_count": 606,
   "metadata": {},
   "outputs": [],
   "source": [
    "ref.analysis_car_los()\n",
    "ref.analysis_car_time()"
   ]
  },
  {
   "cell_type": "code",
   "execution_count": 607,
   "metadata": {},
   "outputs": [],
   "source": [
    "odt_quetzal = car.car_los['time'].values\n",
    "odt_ref =ref.car_los['time'].values"
   ]
  },
  {
   "cell_type": "code",
   "execution_count": null,
   "metadata": {},
   "outputs": [],
   "source": []
  },
  {
   "cell_type": "code",
   "execution_count": 608,
   "metadata": {},
   "outputs": [],
   "source": [
    "x = odt_quetzal\n",
    "y = odt_ref\n",
    "\n",
    "regr = linear_model.LinearRegression(fit_intercept=False)#\n",
    "\n",
    "regr.fit(x[:, np.newaxis], y)\n",
    "y_pred = regr.predict(x[:, np.newaxis])\n",
    "r2 = r2_score(y, y_pred)\n",
    "slope = regr.coef_[0]\n",
    "intercept=0"
   ]
  },
  {
   "cell_type": "code",
   "execution_count": 641,
   "metadata": {},
   "outputs": [
    {
     "data": {
      "image/png": "[encoded data removed]",
      "text/plain": [
       "<Figure size 720x720 with 1 Axes>"
      ]
     },
     "metadata": {
      "needs_background": "light"
     },
     "output_type": "display_data"
    }
   ],
   "source": [
    "fig, ax = plt.subplots(figsize=(10,10))\n",
    "plt.scatter(x,y,alpha=1,s=1)\n",
    "maxvalue = x.max()\n",
    "plt.plot([0,maxvalue],[0,maxvalue],'--k',alpha=0.3)\n",
    "\n",
    "textstr = '\\n'.join((\n",
    "    r'$\\mathrm{slope}=%.2f$' % (slope, ),\n",
    "    r'$\\mathrm{intercept}=%.2f$' % (intercept, ),\n",
    "    r'$\\mathrm{R^2}=%.2f$' % (r2, )))\n",
    "\n",
    "# these are matplotlib.patch.Patch properties\n",
    "props = dict(boxstyle='round', facecolor='white', alpha=0.3)\n",
    "\n",
    "# place a text box in upper left in axes coords\n",
    "ax.text(0.05, 0.95, textstr, transform=ax.transAxes, fontsize=14,\n",
    "        verticalalignment='top', bbox=props)\n",
    "plt.plot(x,x*slope+intercept,'k',alpha=0.5)\n",
    "\n",
    "plt.xlabel('OD time Quetzal (mins)')\n",
    "plt.ylabel('OD time best solution (mins)')\n",
    "plt.xlim([0,maxvalue])\n",
    "plt.ylim([0,maxvalue])\n",
    "#plt.title('Comparaison des temps pour chaque OD '+city+' (relgap=0.01%)')\n",
    "plt.title('Comparaison des temps pour chaque OD '+city+' (relgap='+relgap+'%)')\n",
    "\n",
    "ax.set_aspect('equal', adjustable='box')\n"
   ]
  },
  {
   "cell_type": "code",
   "execution_count": 642,
   "metadata": {},
   "outputs": [],
   "source": [
    "car.car_los['diff_time'] = car.car_los['time'] - ref.car_los['time']"
   ]
  },
  {
   "cell_type": "code",
   "execution_count": 643,
   "metadata": {},
   "outputs": [
    {
     "name": "stdout",
     "output_type": "stream",
     "text": [
      "positif = ref plus long\n",
      "median 0.01426146048564192\n",
      "mean 0.019607030258636405\n",
      "std 0.031048147004472736\n"
     ]
    }
   ],
   "source": [
    "print('positif = ref plus long')\n",
    "print('median',np.median((np.array(odt_ref) - np.array(odt_quetzal))))\n",
    "print('mean',np.mean((np.array(odt_ref) - np.array(odt_quetzal))))\n",
    "print('std',np.std(np.array(odt_ref) - np.array(odt_quetzal)))"
   ]
  },
  {
   "cell_type": "code",
   "execution_count": 644,
   "metadata": {},
   "outputs": [
    {
     "data": {
      "image/png": "[encoded data removed]",
      "text/plain": [
       "<Figure size 720x720 with 1 Axes>"
      ]
     },
     "metadata": {
      "needs_background": "light"
     },
     "output_type": "display_data"
    }
   ],
   "source": [
    "fig, ax = plt.subplots(figsize=(10,10))\n",
    "\n",
    "plt.hist(odt_ref-odt_quetzal,bins=500)\n",
    "plt.xlabel('diff time OD (mins)')\n",
    "mean = np.mean((np.array(odt_ref) - np.array(odt_quetzal)))\n",
    "median =np.median((np.array(odt_ref) - np.array(odt_quetzal)))\n",
    "sigma = np.std(np.array(odt_ref) - np.array(odt_quetzal))\n",
    "textstr = '\\n'.join((\n",
    "    r'$\\mathrm{mean}=%.2f$mins' % (mean, ),\n",
    "    r'$\\mathrm{median}=%.2f$mins' % (median, ),\n",
    "    r'$\\sigma=%.2f$mins' % (sigma, )))\n",
    "\n",
    "# these are matplotlib.patch.Patch properties\n",
    "props = dict(boxstyle='round', facecolor='white', alpha=0.5)\n",
    "\n",
    "# place a text box in upper left in axes coords\n",
    "ax.text(0.05, 0.95, textstr, transform=ax.transAxes, fontsize=14,\n",
    "        verticalalignment='top', bbox=props)\n",
    "plt.title('différence de temps (best solution - quetzal) pour chaque OD ' +city+' (relgap='+relgap+'%)')\n",
    "#plt.title('différence de temps (best solution - quetzal) pour chaque OD' +city+relgap)\n",
    "\n",
    "\n",
    "plt.show()"
   ]
  },
  {
   "cell_type": "code",
   "execution_count": null,
   "metadata": {},
   "outputs": [],
   "source": []
  }
 ],
 "metadata": {
  "interpreter": {
   "hash": "48e369f0c84e89d432db6e03bde2ad565092888fc98e88e553b1bf37a821d40b"
  },
  "kernelspec": {
   "display_name": "Python [conda env:patate]",
   "language": "python",
   "name": "conda-env-patate-py"
  },
  "language_info": {
   "codemirror_mode": {
    "name": "ipython",
    "version": 3
   },
   "file_extension": ".py",
   "mimetype": "text/x-python",
   "name": "python",
   "nbconvert_exporter": "python",
   "pygments_lexer": "ipython3",
   "version": "3.8.12"
  }
 },
 "nbformat": 4,
 "nbformat_minor": 4
}
